{
 "cells": [
  {
   "cell_type": "markdown",
   "id": "f57233c5",
   "metadata": {},
   "source": [
    "# Variables and Data Types"
   ]
  },
  {
   "cell_type": "markdown",
   "id": "1029e792",
   "metadata": {},
   "source": [
    "Python'da bir değişken, bir değeri saklamak için kullanılan bir isimdir. Değişkenler, program içinde veriye referans sağlarlar. Değişkenlerin değeri program içinde değiştirilebilir. Değişken isimleri, harf veya alt çizgi ile başlamalıdır. İsimler büyük harf/küçük harf duyarlıdır."
   ]
  },
  {
   "cell_type": "code",
   "execution_count": 2,
   "id": "1375c9d8",
   "metadata": {},
   "outputs": [],
   "source": [
    "#ornek \n",
    "x = 5\n",
    "y = \"Hello, world!\""
   ]
  },
  {
   "cell_type": "markdown",
   "id": "f31da89e",
   "metadata": {},
   "source": [
    "Yukarıdaki örnekte x ve y, değer saklamak için kullanılan değişkenlerdir. x bir tam sayıyı (int), y ise bir dizedir (string)."
   ]
  },
  {
   "cell_type": "markdown",
   "id": "58812e72",
   "metadata": {},
   "source": [
    "## Data Types"
   ]
  },
  {
   "cell_type": "markdown",
   "id": "2d0a11b0",
   "metadata": {},
   "source": [
    "Python'da çeşitli veri tipleri bulunmaktadır. En yaygın olanları şunlardır:"
   ]
  },
  {
   "cell_type": "markdown",
   "id": "aa1d9ad7",
   "metadata": {},
   "source": [
    "1) Integer (int): Tam sayıları temsil eder. Örneğin: 5, -3, 1000.\n",
    "\n",
    "2) Float: Ondalık sayıları temsil eder. Örneğin: 3.14, 2.718.\n",
    "\n",
    "3) String (str): Metin verilerini temsil eder. Örneğin: \"Hello, world!\", 'Python'.\n",
    "\n",
    "4) Boolean (bool): Mantıksal değerleri temsil eder. True veya False olabilir.\n",
    "\n",
    "5) List: Birden çok öğeyi içeren değiştirilebilir bir koleksiyon. Örneğin: [1, 2, 3, 4], ['a', 'b', 'c'].\n",
    "\n",
    "6) Tuple: Birden çok öğeyi içeren değiştirilemez bir koleksiyon. Örneğin: (1, 2, 3, 4), ('a', 'b', 'c').\n",
    "\n",
    "7) Dictionary (dict): Anahtar-değer çiftlerini içeren bir koleksiyon. Örneğin: {'name': 'John', 'age': 30}.\n",
    "\n",
    "8) Set: Tekil öğelerin bir koleksiyonu. Örneğin: {1, 2, 3, 4}."
   ]
  },
  {
   "cell_type": "markdown",
   "id": "c3fcde08",
   "metadata": {},
   "source": [
    "### Yerleşik Veri Türleri "
   ]
  },
  {
   "cell_type": "markdown",
   "id": "836a7153",
   "metadata": {},
   "source": [
    "Programlamada veri türü önemli bir kavramdır.\n",
    "\n",
    "Değişkenler farklı türdeki verileri depolayabilir ve farklı türler farklı şeyler yapabilir.\n",
    "\n",
    "Python, bu kategorilerde varsayılan olarak aşağıdaki veri türlerini yerleşik olarak içerir:"
   ]
  },
  {
   "cell_type": "code",
   "execution_count": 31,
   "id": "ed219d78",
   "metadata": {},
   "outputs": [],
   "source": [
    "# Text Type:\tstr\n",
    "# Numeric Types:\tint, float, complex\n",
    "# Sequence Types:\tlist, tuple, range\n",
    "# Mapping Type:\tdict\n",
    "# Set Types:\tset, frozenset\n",
    "# Boolean Type:\tbool\n",
    "# Binary Types:\tbytes, bytearray, memoryview\n",
    "# None Type:\tNoneType"
   ]
  },
  {
   "cell_type": "code",
   "execution_count": 35,
   "id": "ab8a3d92",
   "metadata": {},
   "outputs": [
    {
     "name": "stdout",
     "output_type": "stream",
     "text": [
      "<class 'int'>\n",
      "<class 'str'>\n",
      "<class 'float'>\n",
      "<class 'bool'>\n"
     ]
    }
   ],
   "source": [
    "x = 2\n",
    "print(type(x))\n",
    "x = \"Hello\"\n",
    "print(type(x))\n",
    "x = 3.8\n",
    "print(type(x))\n",
    "x = True\n",
    "print(type(x))"
   ]
  },
  {
   "cell_type": "markdown",
   "id": "28092c36",
   "metadata": {},
   "source": [
    "### Integar"
   ]
  },
  {
   "cell_type": "markdown",
   "id": "1c163ce5",
   "metadata": {},
   "source": [
    "Int veya tam sayı, sınırsız uzunlukta, pozitif veya negatif, ondalık sayılar içermeyen bir tam sayıdır."
   ]
  },
  {
   "cell_type": "code",
   "execution_count": 15,
   "id": "3cd62560",
   "metadata": {},
   "outputs": [
    {
     "name": "stdout",
     "output_type": "stream",
     "text": [
      "9\n"
     ]
    }
   ],
   "source": [
    "x = 5\n",
    "y = 4\n",
    "print(x+y)"
   ]
  },
  {
   "cell_type": "code",
   "execution_count": 3,
   "id": "622c96ea",
   "metadata": {},
   "outputs": [
    {
     "name": "stdout",
     "output_type": "stream",
     "text": [
      "<class 'int'>\n",
      "<class 'int'>\n",
      "<class 'int'>\n"
     ]
    }
   ],
   "source": [
    "x = 1\n",
    "y = 35656222554887711\n",
    "z = -3255522\n",
    "\n",
    "print(type(x))\n",
    "print(type(y))\n",
    "print(type(z))"
   ]
  },
  {
   "cell_type": "markdown",
   "id": "452855c9",
   "metadata": {},
   "source": [
    "### Float"
   ]
  },
  {
   "cell_type": "markdown",
   "id": "8083bdee",
   "metadata": {},
   "source": [
    "Kayan nokta veya \"kayan noktalı sayı\", bir veya daha fazla ondalık sayı içeren pozitif veya negatif bir sayıdır."
   ]
  },
  {
   "cell_type": "code",
   "execution_count": 10,
   "id": "12133d52",
   "metadata": {},
   "outputs": [
    {
     "name": "stdout",
     "output_type": "stream",
     "text": [
      "2.5\n"
     ]
    }
   ],
   "source": [
    "x = 5\n",
    "y = 2\n",
    "print(x/y)"
   ]
  },
  {
   "cell_type": "code",
   "execution_count": 37,
   "id": "3fd8faa0",
   "metadata": {},
   "outputs": [
    {
     "name": "stdout",
     "output_type": "stream",
     "text": [
      "<class 'float'>\n",
      "<class 'float'>\n",
      "<class 'float'>\n"
     ]
    }
   ],
   "source": [
    "x = 1.10\n",
    "y = 1.0\n",
    "z = -35.59\n",
    "\n",
    "print(type(x))\n",
    "print(type(y))\n",
    "print(type(z))"
   ]
  },
  {
   "cell_type": "markdown",
   "id": "93074f6a",
   "metadata": {},
   "source": [
    "### String"
   ]
  },
  {
   "cell_type": "markdown",
   "id": "1915e44b",
   "metadata": {},
   "source": [
    "Python'daki dizeler ya tek tırnak işaretleri ya da çift tırnak işaretleri ile çevrelenir.\n",
    "\n",
    "'Merhaba', 'merhaba' ile aynıdır."
   ]
  },
  {
   "cell_type": "code",
   "execution_count": 17,
   "id": "5e0c0910",
   "metadata": {},
   "outputs": [
    {
     "name": "stdout",
     "output_type": "stream",
     "text": [
      "bu deger bir yazi degeri bu sonradan yazilan bir yazi 675 lorem yazi degerleri ile matematiksel islemler yapilamaz\n"
     ]
    }
   ],
   "source": [
    "x = \"bu deger bir yazi degeri\"\n",
    "y = \"yazi degerleri ile matematiksel islemler yapilamaz\"\n",
    "yx = x+y\n",
    "print(x+\" bu sonradan yazilan bir yazi 675 lorem \"+y)"
   ]
  },
  {
   "cell_type": "code",
   "execution_count": 39,
   "id": "32ef2426",
   "metadata": {},
   "outputs": [
    {
     "name": "stdout",
     "output_type": "stream",
     "text": [
      "Lorem ipsum dolor sit amet,\n",
      "consectetur adipiscing elit,\n",
      "sed do eiusmod tempor incididunt\n",
      "ut labore et dolore magna aliqua.\n"
     ]
    }
   ],
   "source": [
    "a = \"\"\"Lorem ipsum dolor sit amet,\n",
    "consectetur adipiscing elit,\n",
    "sed do eiusmod tempor incididunt\n",
    "ut labore et dolore magna aliqua.\"\"\"\n",
    "print(a)"
   ]
  },
  {
   "cell_type": "markdown",
   "id": "f041ae07",
   "metadata": {},
   "source": [
    "### Boolen\n"
   ]
  },
  {
   "cell_type": "markdown",
   "id": "c1260248",
   "metadata": {},
   "source": [
    "Programlamada sıklıkla bir ifadenin Doğru mu Yanlış mı olduğunu bilmeniz gerekir.\n",
    "\n",
    "Python'da herhangi bir ifadeyi değerlendirebilir ve Doğru veya Yanlış olmak üzere iki yanıttan birini alabilirsiniz."
   ]
  },
  {
   "cell_type": "code",
   "execution_count": 10,
   "id": "3f78b056",
   "metadata": {},
   "outputs": [
    {
     "name": "stdout",
     "output_type": "stream",
     "text": [
      "True\n",
      "False\n",
      "False\n"
     ]
    }
   ],
   "source": [
    "print(10 > 9)\n",
    "print(10 == 9)\n",
    "print(10 < 9)"
   ]
  },
  {
   "cell_type": "code",
   "execution_count": 11,
   "id": "dd13b4a0",
   "metadata": {},
   "outputs": [
    {
     "name": "stdout",
     "output_type": "stream",
     "text": [
      "b is not greater than a\n"
     ]
    }
   ],
   "source": [
    "a = 200\n",
    "b = 33\n",
    "\n",
    "if b > a:\n",
    "  print(\"b is greater than a\")\n",
    "else:\n",
    "  print(\"b is not greater than a\")"
   ]
  },
  {
   "cell_type": "markdown",
   "id": "e3f6e831",
   "metadata": {},
   "source": [
    "### List "
   ]
  },
  {
   "cell_type": "markdown",
   "id": "781075c2",
   "metadata": {},
   "source": [
    "Listeler birden fazla öğeyi tek bir değişkende depolamak için kullanılır.\n",
    "\n",
    "Listeler, Python'da veri koleksiyonlarını depolamak için kullanılan 4 yerleşik veri türünden biridir; diğer 3'ü Tuple, Set ve Dictionary'dir ve hepsi farklı nitelik ve kullanıma sahiptir."
   ]
  },
  {
   "cell_type": "code",
   "execution_count": 17,
   "id": "43f66726",
   "metadata": {},
   "outputs": [],
   "source": [
    "mylist = [\"apple\", \"banana\", \"cherry\"]"
   ]
  },
  {
   "cell_type": "code",
   "execution_count": 20,
   "id": "7c2f0f9d",
   "metadata": {},
   "outputs": [
    {
     "name": "stdout",
     "output_type": "stream",
     "text": [
      "2000\n"
     ]
    }
   ],
   "source": [
    "list1 = [\"apple\", \"banana\", \"cherry\"]\n",
    "list2 = [1, 5, 7, 9, 3]\n",
    "list3 = [True, False, False]\n",
    "maas = 1000\n",
    "print(maas + maas)"
   ]
  },
  {
   "cell_type": "code",
   "execution_count": 34,
   "id": "7b824b9e",
   "metadata": {},
   "outputs": [
    {
     "name": "stdout",
     "output_type": "stream",
     "text": [
      "2750\n"
     ]
    }
   ],
   "source": [
    "personel = [\"Mehmet\",\"Ali\",\"Tunc\",\"Hasan\",\"Yasin\",\"Kemal\"]\n",
    "maas = [1000,850,900]\n",
    "sonuc = 0\n",
    "for isimler in maas:\n",
    "    sonuc += isimler\n",
    "print(sonuc)\n",
    "    "
   ]
  },
  {
   "cell_type": "markdown",
   "id": "cc9d6618",
   "metadata": {},
   "source": [
    "### Tuple"
   ]
  },
  {
   "cell_type": "markdown",
   "id": "d7902f8e",
   "metadata": {},
   "source": [
    "Tuplelar birden fazla öğeyi tek bir değişkende depolamak için kullanılır.\n",
    "\n",
    "Tuple, Python'da veri koleksiyonlarını depolamak için kullanılan 4 yerleşik veri türünden biridir; diğer 3'ü, tümü farklı niteliklere ve kullanıma sahip olan Liste, Küme ve Sözlük'tür.\n",
    "\n",
    "Tuple, sıralı ve değiştirilemeyen bir koleksiyondur.\n",
    "\n",
    "Tuple'lar yuvarlak parantezlerle yazılmıştır."
   ]
  },
  {
   "cell_type": "code",
   "execution_count": 14,
   "id": "1dacdfed",
   "metadata": {},
   "outputs": [],
   "source": [
    "mytuple = (\"apple\", \"banana\", \"cherry\")"
   ]
  },
  {
   "cell_type": "markdown",
   "id": "e0bb21ed",
   "metadata": {},
   "source": [
    "### Set"
   ]
  },
  {
   "cell_type": "markdown",
   "id": "23372931",
   "metadata": {},
   "source": [
    "Kümeler birden fazla öğeyi tek bir değişkende depolamak için kullanılır.\n",
    "\n",
    "Set, Python'da veri koleksiyonlarını depolamak için kullanılan 4 yerleşik veri türünden biridir; diğer 3'ü, tümü farklı niteliklere ve kullanıma sahip olan Liste, Tuple ve Sözlük'tür.\n",
    "\n",
    "Küme, sırasız, değiştirilemez* ve dizine eklenmemiş bir koleksiyondur."
   ]
  },
  {
   "cell_type": "code",
   "execution_count": 20,
   "id": "68be400c",
   "metadata": {},
   "outputs": [],
   "source": [
    "myset = {\"apple\", \"banana\", \"cherry\"}"
   ]
  },
  {
   "cell_type": "markdown",
   "id": "15f0f304",
   "metadata": {},
   "source": [
    "## Operators"
   ]
  },
  {
   "cell_type": "markdown",
   "id": "d77a2568",
   "metadata": {},
   "source": [
    "### Python Aritmetik Operatörleri"
   ]
  },
  {
   "cell_type": "markdown",
   "id": "ec4d4993",
   "metadata": {},
   "source": [
    "Aritmetik operatörler, yaygın matematiksel işlemleri gerçekleştirmek için sayısal değerlerle birlikte kullanılır:"
   ]
  },
  {
   "cell_type": "code",
   "execution_count": 21,
   "id": "478a7f0c",
   "metadata": {},
   "outputs": [],
   "source": [
    "# + \tAddition    \tx + y\t\n",
    "# - \tSubtraction \tx - y\t\n",
    "# * \tMultiplication\tx * y\t\n",
    "# / \tDivision    \tx / y\t\n",
    "# % \tModulus     \tx % y\t\n",
    "# **\tExponentiation\tx ** y\t\n",
    "# //\tFloor division\tx // y"
   ]
  },
  {
   "cell_type": "markdown",
   "id": "df12c9e3",
   "metadata": {},
   "source": [
    "### Python Atama Operatörleri"
   ]
  },
  {
   "cell_type": "markdown",
   "id": "227e324a",
   "metadata": {},
   "source": [
    "Atama operatörleri değişkenlere değer atamak için kullanılır:"
   ]
  },
  {
   "cell_type": "code",
   "execution_count": 24,
   "id": "0f360fba",
   "metadata": {},
   "outputs": [],
   "source": [
    "# = \tx =   5\tx = 5\t\n",
    "# +=\tx +=  3\tx = x + 3\t\n",
    "# -=\tx -=  3\tx = x - 3\t\n",
    "# *=\tx *=  3\tx = x * 3\t\n",
    "# /=\tx /=  3\tx = x / 3\t\n",
    "# %=\tx %=  3\tx = x % 3\t\n",
    "# //=\tx //= 3\tx = x // 3\t\n",
    "# **=\tx **= 3\tx = x ** 3\t\n",
    "# &=\tx &=  3\tx = x & 3\t\n",
    "# |=\tx |=  3\tx = x | 3\t\n",
    "# ^=\tx ^=  3\tx = x ^ 3\t\n",
    "# >>=\tx >>= 3\tx = x >> 3\t\n",
    "# <<=\tx <<= 3\tx = x << 3"
   ]
  },
  {
   "cell_type": "markdown",
   "id": "ce659b72",
   "metadata": {},
   "source": [
    "### Python Karşılaştırma Operatörleri"
   ]
  },
  {
   "cell_type": "markdown",
   "id": "facc963a",
   "metadata": {},
   "source": [
    "Karşılaştırma operatörleri iki değeri karşılaştırmak için kullanılır:"
   ]
  },
  {
   "cell_type": "code",
   "execution_count": 25,
   "id": "82763b18",
   "metadata": {},
   "outputs": [],
   "source": [
    "# ==    \tEqual               \tx == y\t\n",
    "# !=    \tNot equal           \tx != y\t\n",
    "# >     \tGreater than        \tx > y\t\n",
    "# <     \tLess than           \tx < y\t\n",
    "# >=\tGreater than or equal to\tx >= y\t\n",
    "# <=\tLess than or equal to   \tx <= y"
   ]
  },
  {
   "cell_type": "markdown",
   "id": "769faf96",
   "metadata": {},
   "source": [
    "### Python Mantıksal Operatörleri "
   ]
  },
  {
   "cell_type": "markdown",
   "id": "b1ce7054",
   "metadata": {},
   "source": [
    "Mantıksal operatörler koşullu ifadeleri birleştirmek için kullanılır:"
   ]
  },
  {
   "cell_type": "code",
   "execution_count": 26,
   "id": "8c9b9fa8",
   "metadata": {},
   "outputs": [],
   "source": [
    "#   and     \tReturns True if both statements are true            \tx < 5 and  x < 10\t\n",
    "#   or      \tReturns True if one of the statements is true       \tx < 5 or x < 4\t\n",
    "#   not \tReverse the result, returns False if the result is true \tnot(x < 5 and x < 10)"
   ]
  },
  {
   "cell_type": "markdown",
   "id": "d57b47f6",
   "metadata": {},
   "source": [
    "### Python Kimlik Operatörleri "
   ]
  },
  {
   "cell_type": "markdown",
   "id": "ddf58f0f",
   "metadata": {},
   "source": [
    "Kimlik operatörleri, nesneleri eşit olup olmadıklarını değil, aslında aynı nesne olup olmadıklarını ve aynı bellek konumuna sahip olup olmadıklarını karşılaştırmak için kullanılır:"
   ]
  },
  {
   "cell_type": "code",
   "execution_count": 27,
   "id": "ecdafa43",
   "metadata": {},
   "outputs": [],
   "source": [
    "# is    \tReturns True if both variables are the same object  \tx is y\t\n",
    "# is not\tReturns True if both variables are not the same object\tx is not y"
   ]
  },
  {
   "cell_type": "markdown",
   "id": "675da9ec",
   "metadata": {},
   "source": [
    "### Python Üyelik Operatörleri "
   ]
  },
  {
   "cell_type": "markdown",
   "id": "1697e535",
   "metadata": {},
   "source": [
    "Üyelik operatörleri bir nesnede bir dizinin sunulup sunulmadığını test etmek için kullanılır:"
   ]
  },
  {
   "cell_type": "code",
   "execution_count": 28,
   "id": "512c2bfb",
   "metadata": {},
   "outputs": [],
   "source": [
    "# in    \tReturns True if a sequence with the specified value is present in the object    \tx in y\t\n",
    "# not in\tReturns True if a sequence with the specified value is not present in the object\tx not in y"
   ]
  },
  {
   "cell_type": "markdown",
   "id": "3ed5ad90",
   "metadata": {},
   "source": [
    "### Python Bitsel Operatörler "
   ]
  },
  {
   "cell_type": "markdown",
   "id": "6a77e274",
   "metadata": {},
   "source": [
    "Bitsel operatörler (ikili) sayıları karşılaştırmak için kullanılır:"
   ]
  },
  {
   "cell_type": "code",
   "execution_count": 29,
   "id": "7b687e03",
   "metadata": {},
   "outputs": [],
   "source": [
    "#  &\tAND\tSets each bit to 1 if both bits are 1           \tx & y\t\n",
    "#  |\tOR\tSets each bit to 1 if one of two bits is 1      \tx | y\t\n",
    "#  ^\tXOR\tSets each bit to 1 if only one of two bits is 1 \tx ^ y\t\n",
    "#  ~\tNOT\tInverts all the bits                            \t~x\t\n",
    "#  <<\tZero fill left shift\tShift left by pushing zeros in from the right and let the leftmost bits fall off    \tx << 2\t\n",
    "#  >>\tSigned right shift\tShift right by pushing copies of the leftmost bit in from the left, and let the rightmost bits fall off \tx >> 2"
   ]
  },
  {
   "cell_type": "code",
   "execution_count": 49,
   "id": "5b9842a8",
   "metadata": {},
   "outputs": [
    {
     "name": "stdout",
     "output_type": "stream",
     "text": [
      "deger giriniz 15\n",
      "<class 'int'>\n",
      "[1, 4, 6, 2, 15]\n"
     ]
    }
   ],
   "source": [
    "degisken1 = int(input(\"deger giriniz \"))\n",
    "print(type(degisken1))\n",
    "liste = [1,4,6,2,degisken1]\n",
    "print(liste)\n",
    "#liste.append = (degisken1)"
   ]
  },
  {
   "cell_type": "code",
   "execution_count": 43,
   "id": "d8250fc3",
   "metadata": {},
   "outputs": [],
   "source": [
    "beatles = [2]\n",
    "# Your code here\n",
    "beatles.append(3)"
   ]
  },
  {
   "cell_type": "code",
   "execution_count": 44,
   "id": "a283c8be",
   "metadata": {},
   "outputs": [
    {
     "name": "stdout",
     "output_type": "stream",
     "text": [
      "[2, 3]\n"
     ]
    }
   ],
   "source": [
    "print(beatles)"
   ]
  },
  {
   "cell_type": "code",
   "execution_count": null,
   "id": "b4fede06",
   "metadata": {},
   "outputs": [],
   "source": []
  }
 ],
 "metadata": {
  "kernelspec": {
   "display_name": "Python 3 (ipykernel)",
   "language": "python",
   "name": "python3"
  },
  "language_info": {
   "codemirror_mode": {
    "name": "ipython",
    "version": 3
   },
   "file_extension": ".py",
   "mimetype": "text/x-python",
   "name": "python",
   "nbconvert_exporter": "python",
   "pygments_lexer": "ipython3",
   "version": "3.9.16"
  }
 },
 "nbformat": 4,
 "nbformat_minor": 5
}
