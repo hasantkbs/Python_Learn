{
 "cells": [
  {
   "cell_type": "markdown",
   "id": "b65708d6",
   "metadata": {},
   "source": [
    "# Conditionals"
   ]
  },
  {
   "cell_type": "markdown",
   "id": "ae5c3e44",
   "metadata": {},
   "source": [
    "Python'da if ve else ifadeleri, koşullu ifadelerin uygulanmasını sağlar. Bu ifadeler, belirli bir koşulun doğru veya yanlış olmasına bağlı olarak farklı işlemlerin gerçekleştirilmesini sağlar."
   ]
  },
  {
   "cell_type": "code",
   "execution_count": 1,
   "id": "db87dd7e",
   "metadata": {},
   "outputs": [
    {
     "ename": "IndentationError",
     "evalue": "expected an indented block (1905780263.py, line 4)",
     "output_type": "error",
     "traceback": [
      "\u001b[0;36m  Cell \u001b[0;32mIn[1], line 4\u001b[0;36m\u001b[0m\n\u001b[0;31m    else:\u001b[0m\n\u001b[0m    ^\u001b[0m\n\u001b[0;31mIndentationError\u001b[0m\u001b[0;31m:\u001b[0m expected an indented block\n"
     ]
    }
   ],
   "source": [
    "if koşul:\n",
    "    # Koşul doğruysa buradaki kod bloğu çalıştırılır\n",
    "    # Birden fazla satır kod buraya yazılabilir\n",
    "else:\n",
    "    # Koşul yanlışsa buradaki kod bloğu çalıştırılır\n",
    "    # Birden fazla satır kod buraya yazılabilir"
   ]
  },
  {
   "cell_type": "markdown",
   "id": "160dab91",
   "metadata": {},
   "source": [
    "'if' ifadesi, belirli bir koşulun doğru olup olmadığını kontrol eder. Eğer koşul doğruysa, 'if' bloğu içindeki kod çalıştırılır. 'else' ifadesi ise, 'if' bloğunun dışında yer alır ve eğer if ifadesinin koşulu yanlışsa bu blok çalışır.\n",
    "\n",
    "Ayrıca, bir 'if' ifadesi içinde başka bir 'if' ifadesi de kullanılabilir. Bu durumda, 'elif' ifadesi (else if'in kısaltması) kullanılır."
   ]
  },
  {
   "cell_type": "code",
   "execution_count": 2,
   "id": "71aacc78",
   "metadata": {},
   "outputs": [
    {
     "ename": "IndentationError",
     "evalue": "expected an indented block (3962939310.py, line 3)",
     "output_type": "error",
     "traceback": [
      "\u001b[0;36m  Cell \u001b[0;32mIn[2], line 3\u001b[0;36m\u001b[0m\n\u001b[0;31m    elif koşul2:\u001b[0m\n\u001b[0m    ^\u001b[0m\n\u001b[0;31mIndentationError\u001b[0m\u001b[0;31m:\u001b[0m expected an indented block\n"
     ]
    }
   ],
   "source": [
    "if koşul1:\n",
    "    # Koşul1 doğruysa buradaki kod bloğu çalıştırılır\n",
    "elif koşul2:\n",
    "    # Koşul2 doğruysa buradaki kod bloğu çalıştırılır\n",
    "else:\n",
    "    # Hiçbir koşul doğru değilse buradaki kod bloğu çalıştırılır"
   ]
  },
  {
   "cell_type": "markdown",
   "id": "83162157",
   "metadata": {},
   "source": [
    "Bu yapı, birden fazla koşulun kontrol edilmesini sağlar. İlk doğru koşulun bulunması durumunda, diğer koşulların kontrol edilmesine gerek kalmaz. Eğer hiçbir koşul doğru değilse, else bloğu çalıştırılır.\n",
    "\n",
    "Python'da bu koşullu ifadeler, programın belirli durumlara göre farklı yollara gitmesini sağlar ve programlama dillerindeki karar verme sürecini modellemek için kullanılır."
   ]
  },
  {
   "cell_type": "markdown",
   "id": "e88e4094",
   "metadata": {},
   "source": [
    "Python matematikteki olağan mantıksal koşulları destekler:\n",
    "\n",
    "* Eşittir: a == b\n",
    "* Eşit Değildir: a != b\n",
    "* Şundan küçük: a < b\n",
    "* Küçük veya eşittir: a <= b\n",
    "* Şundan büyük: a > b\n",
    "* Büyük veya eşittir: a >= b"
   ]
  },
  {
   "cell_type": "code",
   "execution_count": 3,
   "id": "44f5fb17",
   "metadata": {},
   "outputs": [
    {
     "name": "stdout",
     "output_type": "stream",
     "text": [
      "b is greater than a\n"
     ]
    }
   ],
   "source": [
    "a = 33\n",
    "b = 200\n",
    "if b > a:\n",
    "  print(\"b is greater than a\")"
   ]
  },
  {
   "cell_type": "markdown",
   "id": "a2467e5a",
   "metadata": {},
   "source": [
    "### Elif\n",
    "Elif anahtar sözcüğü Python'un \"önceki koşullar doğru değilse bu koşulu deneyin\" deme biçimidir."
   ]
  },
  {
   "cell_type": "code",
   "execution_count": 4,
   "id": "84ca2310",
   "metadata": {},
   "outputs": [
    {
     "name": "stdout",
     "output_type": "stream",
     "text": [
      "a and b are equal\n"
     ]
    }
   ],
   "source": [
    "a = 33\n",
    "b = 33\n",
    "if b > a:\n",
    "  print(\"b is greater than a\")\n",
    "elif a == b:\n",
    "  print(\"a and b are equal\")"
   ]
  },
  {
   "cell_type": "markdown",
   "id": "7a3a6917",
   "metadata": {},
   "source": [
    "### Else\n",
    "else anahtar sözcüğü önceki koşullar tarafından yakalanmayan her şeyi yakalar."
   ]
  },
  {
   "cell_type": "code",
   "execution_count": 5,
   "id": "94e44ab9",
   "metadata": {},
   "outputs": [
    {
     "name": "stdout",
     "output_type": "stream",
     "text": [
      "a is greater than b\n"
     ]
    }
   ],
   "source": [
    "a = 200\n",
    "b = 33\n",
    "if b > a:\n",
    "  print(\"b is greater than a\")\n",
    "elif a == b:\n",
    "  print(\"a and b are equal\")\n",
    "else:\n",
    "  print(\"a is greater than b\")"
   ]
  },
  {
   "cell_type": "markdown",
   "id": "c097c80f",
   "metadata": {},
   "source": [
    "### And\n",
    "And anahtar sözcüğü mantıksal bir operatördür ve koşullu ifadeleri birleştirmek için kullanılır:"
   ]
  },
  {
   "cell_type": "code",
   "execution_count": 6,
   "id": "fb06b584",
   "metadata": {},
   "outputs": [
    {
     "name": "stdout",
     "output_type": "stream",
     "text": [
      "Both conditions are True\n"
     ]
    }
   ],
   "source": [
    "a = 200\n",
    "b = 33\n",
    "c = 500\n",
    "if a > b and c > a:\n",
    "  print(\"Both conditions are True\")"
   ]
  },
  {
   "cell_type": "markdown",
   "id": "6a00aaff",
   "metadata": {},
   "source": [
    "### Or\n",
    "or anahtar sözcüğü mantıksal bir operatördür ve koşullu ifadeleri birleştirmek için kullanılır:"
   ]
  },
  {
   "cell_type": "code",
   "execution_count": 7,
   "id": "192f50fb",
   "metadata": {},
   "outputs": [
    {
     "name": "stdout",
     "output_type": "stream",
     "text": [
      "At least one of the conditions is True\n"
     ]
    }
   ],
   "source": [
    "a = 200\n",
    "b = 33\n",
    "c = 500\n",
    "if a > b or a > c:\n",
    "  print(\"At least one of the conditions is True\")"
   ]
  },
  {
   "cell_type": "markdown",
   "id": "83512af5",
   "metadata": {},
   "source": [
    "### Not\n",
    "Not anahtar sözcüğü mantıksal bir operatördür ve koşullu ifadenin sonucunu tersine çevirmek için kullanılır:"
   ]
  },
  {
   "cell_type": "code",
   "execution_count": 8,
   "id": "a52f9826",
   "metadata": {},
   "outputs": [
    {
     "name": "stdout",
     "output_type": "stream",
     "text": [
      "a is NOT greater than b\n"
     ]
    }
   ],
   "source": [
    "a = 33\n",
    "b = 200\n",
    "if not a > b:\n",
    "  print(\"a is NOT greater than b\")"
   ]
  },
  {
   "cell_type": "markdown",
   "id": "682aa201",
   "metadata": {},
   "source": [
    "### Nasted If\n",
    "If ifadelerinin içinde if ifadeleri olabilir, buna iç içe if ifadeleri denir."
   ]
  },
  {
   "cell_type": "code",
   "execution_count": 9,
   "id": "74393886",
   "metadata": {},
   "outputs": [
    {
     "name": "stdout",
     "output_type": "stream",
     "text": [
      "Above ten,\n",
      "and also above 20!\n"
     ]
    }
   ],
   "source": [
    "x = 41\n",
    "\n",
    "if x > 10:\n",
    "  print(\"Above ten,\")\n",
    "  if x > 20:\n",
    "    print(\"and also above 20!\")\n",
    "  else:\n",
    "    print(\"but not above 20.\")"
   ]
  },
  {
   "cell_type": "markdown",
   "id": "c4aaa3b8",
   "metadata": {},
   "source": [
    "### The Pass Statement\n",
    "if ifadeleri boş olamaz, ancak herhangi bir nedenle içeriği olmayan bir if ifadeniz varsa, hata almamak için pass ifadesini ekleyin."
   ]
  },
  {
   "cell_type": "code",
   "execution_count": 10,
   "id": "41e443c3",
   "metadata": {},
   "outputs": [],
   "source": [
    "a = 33\n",
    "b = 200\n",
    "\n",
    "if b > a:\n",
    "  pass"
   ]
  },
  {
   "cell_type": "code",
   "execution_count": null,
   "id": "29588daf",
   "metadata": {},
   "outputs": [],
   "source": []
  }
 ],
 "metadata": {
  "kernelspec": {
   "display_name": "Python 3 (ipykernel)",
   "language": "python",
   "name": "python3"
  },
  "language_info": {
   "codemirror_mode": {
    "name": "ipython",
    "version": 3
   },
   "file_extension": ".py",
   "mimetype": "text/x-python",
   "name": "python",
   "nbconvert_exporter": "python",
   "pygments_lexer": "ipython3",
   "version": "3.9.16"
  }
 },
 "nbformat": 4,
 "nbformat_minor": 5
}
