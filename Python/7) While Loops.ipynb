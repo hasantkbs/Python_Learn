{
 "cells": [
  {
   "cell_type": "markdown",
   "id": "acdedb33",
   "metadata": {},
   "source": [
    "# Python While Loops"
   ]
  },
  {
   "cell_type": "markdown",
   "id": "6115e463",
   "metadata": {},
   "source": [
    "Python Loops\n",
    "Python'un iki temel döngü komutu vardır:\n",
    "\n",
    "* while loops\n",
    "* for loops"
   ]
  },
  {
   "cell_type": "markdown",
   "id": "b59ef8fe",
   "metadata": {},
   "source": [
    "### While Loops\n",
    "While döngüsüyle, bir koşul doğru olduğu sürece bir dizi ifadeyi çalıştırabiliriz."
   ]
  },
  {
   "cell_type": "code",
   "execution_count": 1,
   "id": "91e33711",
   "metadata": {},
   "outputs": [
    {
     "name": "stdout",
     "output_type": "stream",
     "text": [
      "1\n",
      "2\n",
      "3\n",
      "4\n",
      "5\n"
     ]
    }
   ],
   "source": [
    "i = 1\n",
    "while i < 6:\n",
    "  print(i)\n",
    "  i += 1"
   ]
  },
  {
   "cell_type": "markdown",
   "id": "cab32e37",
   "metadata": {},
   "source": [
    "While döngüsü ilgili değişkenlerin hazır olmasını gerektirir, bu örnekte 1 olarak ayarladığımız bir indeksleme değişkeni i tanımlamamız gerekiyor."
   ]
  },
  {
   "cell_type": "markdown",
   "id": "ae9c1baa",
   "metadata": {},
   "source": [
    "### The break Statement\n",
    "Break deyimi ile while koşulu doğru olsa bile döngüyü durdurabiliriz:"
   ]
  },
  {
   "cell_type": "code",
   "execution_count": 3,
   "id": "9fc8708a",
   "metadata": {},
   "outputs": [
    {
     "name": "stdout",
     "output_type": "stream",
     "text": [
      "1\n",
      "2\n",
      "3\n"
     ]
    }
   ],
   "source": [
    "i = 1\n",
    "while i < 6:\n",
    "  print(i)\n",
    "  if i == 3:\n",
    "    break\n",
    "  i += 1"
   ]
  },
  {
   "cell_type": "markdown",
   "id": "a769a3fc",
   "metadata": {},
   "source": [
    "### The continue Statement\n",
    "Continue ifadesi ile mevcut yinelemeyi durdurabilir ve bir sonraki adıma devam edebiliriz:"
   ]
  },
  {
   "cell_type": "code",
   "execution_count": 4,
   "id": "21195e15",
   "metadata": {},
   "outputs": [
    {
     "name": "stdout",
     "output_type": "stream",
     "text": [
      "1\n",
      "2\n",
      "4\n",
      "5\n",
      "6\n"
     ]
    }
   ],
   "source": [
    "i = 0\n",
    "while i < 6:\n",
    "  i += 1\n",
    "  if i == 3:\n",
    "    continue\n",
    "  print(i)"
   ]
  },
  {
   "cell_type": "markdown",
   "id": "f2a24b93",
   "metadata": {},
   "source": [
    "### The else Statement\n",
    "else deyimiyle, koşul artık doğru olmadığında bir kod bloğunu bir kez çalıştırabiliriz:"
   ]
  },
  {
   "cell_type": "code",
   "execution_count": 5,
   "id": "9cf3ee7c",
   "metadata": {},
   "outputs": [
    {
     "name": "stdout",
     "output_type": "stream",
     "text": [
      "1\n",
      "2\n",
      "3\n",
      "4\n",
      "5\n",
      "i is no longer less than 6\n"
     ]
    }
   ],
   "source": [
    "i = 1\n",
    "while i < 6:\n",
    "  print(i)\n",
    "  i += 1\n",
    "else:\n",
    "  print(\"i is no longer less than 6\")"
   ]
  },
  {
   "cell_type": "code",
   "execution_count": null,
   "id": "8ac08c99",
   "metadata": {},
   "outputs": [],
   "source": []
  }
 ],
 "metadata": {
  "kernelspec": {
   "display_name": "Python 3 (ipykernel)",
   "language": "python",
   "name": "python3"
  },
  "language_info": {
   "codemirror_mode": {
    "name": "ipython",
    "version": 3
   },
   "file_extension": ".py",
   "mimetype": "text/x-python",
   "name": "python",
   "nbconvert_exporter": "python",
   "pygments_lexer": "ipython3",
   "version": "3.9.16"
  }
 },
 "nbformat": 4,
 "nbformat_minor": 5
}
