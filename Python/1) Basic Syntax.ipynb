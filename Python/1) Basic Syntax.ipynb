{
 "cells": [
  {
   "cell_type": "markdown",
   "id": "6a897708",
   "metadata": {},
   "source": [
    "# Basic Syntax"
   ]
  },
  {
   "cell_type": "markdown",
   "id": "eae81c72",
   "metadata": {},
   "source": [
    "Python'da basit bir syntax, programlama dilinin temel yapılarını ve kurallarını içeren bir dizi koddur. Python'un basit syntax yapısı şunları içerir"
   ]
  },
  {
   "cell_type": "markdown",
   "id": "464bf88a",
   "metadata": {},
   "source": [
    "1) Değişkenler: Değişkenler, bir değeri depolamak için kullanılır. Python'da değişkenler tanımlanırken herhangi bir tür belirtilmez, otomatik olarak tür atanır. Örneğin:"
   ]
  },
  {
   "cell_type": "code",
   "execution_count": 2,
   "id": "346d9b22",
   "metadata": {},
   "outputs": [],
   "source": [
    "x = 5\n",
    "y = \"Hello, world!\""
   ]
  },
  {
   "cell_type": "markdown",
   "id": "538a4bd5",
   "metadata": {},
   "source": [
    "2) Operatörler: Python, matematiksel operatörler (toplama, çıkarma, çarpma, bölme gibi) ve karşılaştırma operatörleri (==, !=, <, > gibi) dahil olmak üzere bir dizi operatör sağlar."
   ]
  },
  {
   "cell_type": "markdown",
   "id": "a34c4d75",
   "metadata": {},
   "source": [
    "3) Kontrol yapıları: if, elif, else gibi koşul ifadeleri ve for, while gibi döngü yapıları Python'un kontrol yapılarıdır."
   ]
  },
  {
   "cell_type": "markdown",
   "id": "656c8f21",
   "metadata": {},
   "source": [
    "4) Fonksiyonlar: Python'da fonksiyonlar belirli bir işlevi gerçekleştirmek için kullanılır. Fonksiyonlar def anahtar kelimesi ile tanımlanır. Örneğin:"
   ]
  },
  {
   "cell_type": "code",
   "execution_count": 3,
   "id": "4c20c2c0",
   "metadata": {},
   "outputs": [],
   "source": [
    "def greet(name):\n",
    "    print(\"Hello, \" + name + \"!\")\n"
   ]
  },
  {
   "cell_type": "markdown",
   "id": "6359e318",
   "metadata": {},
   "source": [
    "5) Listeler, demetler ve sözlükler gibi veri yapıları: Python, farklı türde verileri depolamak için çeşitli veri yapıları sağlar."
   ]
  },
  {
   "cell_type": "markdown",
   "id": "8947107b",
   "metadata": {},
   "source": [
    "Özetle, Python'un basit syntax'ı, dilin temel yapılarını oluşturan değişkenler, operatörler, kontrol yapıları, fonksiyonlar ve veri yapılarını içerir. Bu yapılar, Python'u güçlü ve esnek bir programlama diline dönüştürür."
   ]
  },
  {
   "cell_type": "code",
   "execution_count": 4,
   "id": "31d3612f",
   "metadata": {
    "collapsed": true
   },
   "outputs": [],
   "source": [
    "#command line "
   ]
  },
  {
   "cell_type": "markdown",
   "id": "6fd40dd3",
   "metadata": {},
   "source": [
    "Kodda kendimize ya da yazdığımız yapının işleyişini anlatmak icin kullanırız."
   ]
  },
  {
   "cell_type": "code",
   "execution_count": null,
   "id": "f7603c03",
   "metadata": {},
   "outputs": [],
   "source": []
  }
 ],
 "metadata": {
  "kernelspec": {
   "display_name": "Python 3 (ipykernel)",
   "language": "python",
   "name": "python3"
  },
  "language_info": {
   "codemirror_mode": {
    "name": "ipython",
    "version": 3
   },
   "file_extension": ".py",
   "mimetype": "text/x-python",
   "name": "python",
   "nbconvert_exporter": "python",
   "pygments_lexer": "ipython3",
   "version": "3.9.16"
  }
 },
 "nbformat": 4,
 "nbformat_minor": 5
}
