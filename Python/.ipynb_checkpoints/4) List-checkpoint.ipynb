{
 "cells": [
  {
   "cell_type": "markdown",
   "id": "08f285df",
   "metadata": {},
   "source": [
    "# Python List"
   ]
  },
  {
   "cell_type": "markdown",
   "id": "93e79e06",
   "metadata": {},
   "source": [
    "Listeler birden fazla öğeyi tek bir değişkende depolamak için kullanılır.\n",
    "\n",
    "Listeler, Python'da veri koleksiyonlarını depolamak için kullanılan 4 yerleşik veri türünden biridir; diğer 3'ü Tuple, Set ve Dictionary'dir ve hepsi farklı nitelik ve kullanıma sahiptir."
   ]
  },
  {
   "cell_type": "code",
   "execution_count": 1,
   "id": "d6f3c2a2",
   "metadata": {},
   "outputs": [
    {
     "name": "stdout",
     "output_type": "stream",
     "text": [
      "['apple', 'banana', 'cherry']\n"
     ]
    }
   ],
   "source": [
    "thislist = [\"apple\", \"banana\", \"cherry\"]\n",
    "print(thislist)"
   ]
  },
  {
   "cell_type": "markdown",
   "id": "7552905f",
   "metadata": {},
   "source": [
    "### List Items\n",
    "Liste öğeleri sıralıdır, değiştirilebilir ve yinelenen değerlere izin verir.\n",
    "\n",
    "Liste öğeleri indekslenmiştir, ilk öğenin indeksi [0], ikinci maddenin indeksi [1] vb. vardır."
   ]
  },
  {
   "cell_type": "code",
   "execution_count": 2,
   "id": "78d233b2",
   "metadata": {},
   "outputs": [
    {
     "name": "stdout",
     "output_type": "stream",
     "text": [
      "['apple']\n"
     ]
    }
   ],
   "source": [
    "print(thislist[0:1])"
   ]
  },
  {
   "cell_type": "markdown",
   "id": "0410f81f",
   "metadata": {},
   "source": [
    "### List Length \n",
    "Bir listenin kaç öğeye sahip olduğunu belirlemek için len() işlevini kullanın:"
   ]
  },
  {
   "cell_type": "code",
   "execution_count": 3,
   "id": "e5581c9f",
   "metadata": {},
   "outputs": [
    {
     "name": "stdout",
     "output_type": "stream",
     "text": [
      "3\n"
     ]
    }
   ],
   "source": [
    "print(len(thislist))"
   ]
  },
  {
   "cell_type": "markdown",
   "id": "a17653f7",
   "metadata": {},
   "source": [
    "### Access Items\n",
    "Liste öğeleri indekslenmiştir ve bunlara indeks numarasına başvurarak erişebilirsiniz:"
   ]
  },
  {
   "cell_type": "code",
   "execution_count": 14,
   "id": "7cf2e977",
   "metadata": {},
   "outputs": [
    {
     "name": "stdout",
     "output_type": "stream",
     "text": [
      "banana\n"
     ]
    }
   ],
   "source": [
    "thislist = [\"apple\", \"banana\", \"cherry\"]\n",
    "print(thislist[1])"
   ]
  },
  {
   "cell_type": "markdown",
   "id": "2c0c686b",
   "metadata": {},
   "source": [
    "#### Negatif İndeksleme\n",
    "Negatif indeksleme sondan başlamak anlamına gelir\n",
    "\n",
    "-1 son öğeyi, -2 sondan ikinci öğeyi vb. ifade eder."
   ]
  },
  {
   "cell_type": "code",
   "execution_count": 6,
   "id": "18417a9c",
   "metadata": {},
   "outputs": [
    {
     "name": "stdout",
     "output_type": "stream",
     "text": [
      "cherry\n"
     ]
    }
   ],
   "source": [
    "thislist = [\"apple\", \"banana\", \"cherry\"]\n",
    "print(thislist[-1])"
   ]
  },
  {
   "cell_type": "markdown",
   "id": "d5026fef",
   "metadata": {},
   "source": [
    "#### İndeks Aralığı\n",
    "Aralığın nereden başlayacağını ve nerede biteceğini belirterek bir dizi dizin belirleyebilirsiniz.\n",
    "\n",
    "Bir aralık belirtirken dönüş değeri, belirtilen öğeleri içeren yeni bir liste olacaktır."
   ]
  },
  {
   "cell_type": "code",
   "execution_count": 7,
   "id": "547b92d0",
   "metadata": {},
   "outputs": [
    {
     "name": "stdout",
     "output_type": "stream",
     "text": [
      "['cherry', 'orange', 'kiwi']\n"
     ]
    }
   ],
   "source": [
    "thislist = [\"apple\", \"banana\", \"cherry\", \"orange\", \"kiwi\", \"melon\", \"mango\"]\n",
    "print(thislist[2:5])"
   ]
  },
  {
   "cell_type": "markdown",
   "id": "a957628c",
   "metadata": {},
   "source": [
    "### Farklı kullanımlar"
   ]
  },
  {
   "cell_type": "markdown",
   "id": "e50f5fdf",
   "metadata": {},
   "source": [
    "Başlangıç değeri dışarıda bırakıldığında aralık ilk öğeden başlayacaktır:"
   ]
  },
  {
   "cell_type": "code",
   "execution_count": 8,
   "id": "7dc384eb",
   "metadata": {},
   "outputs": [
    {
     "name": "stdout",
     "output_type": "stream",
     "text": [
      "['apple', 'banana', 'cherry', 'orange']\n"
     ]
    }
   ],
   "source": [
    "thislist = [\"apple\", \"banana\", \"cherry\", \"orange\", \"kiwi\", \"melon\", \"mango\"]\n",
    "print(thislist[:4])"
   ]
  },
  {
   "cell_type": "markdown",
   "id": "6ac77d1f",
   "metadata": {},
   "source": [
    "Bitiş değeri dışarıda bırakıldığında aralık listenin sonuna kadar devam eder:"
   ]
  },
  {
   "cell_type": "code",
   "execution_count": 10,
   "id": "e219371b",
   "metadata": {},
   "outputs": [
    {
     "name": "stdout",
     "output_type": "stream",
     "text": [
      "['cherry', 'orange', 'kiwi', 'melon', 'mango']\n"
     ]
    }
   ],
   "source": [
    "thislist = [\"apple\", \"banana\", \"cherry\", \"orange\", \"kiwi\", \"melon\", \"mango\"]\n",
    "print(thislist[2:])"
   ]
  },
  {
   "cell_type": "markdown",
   "id": "1a75b82d",
   "metadata": {},
   "source": [
    "#### Negatif İndeks Aralığı\n",
    "Aramayı listenin sonundan başlatmak istiyorsanız negatif dizinleri belirtin:"
   ]
  },
  {
   "cell_type": "code",
   "execution_count": 11,
   "id": "1a45b618",
   "metadata": {},
   "outputs": [
    {
     "name": "stdout",
     "output_type": "stream",
     "text": [
      "['orange', 'kiwi', 'melon']\n"
     ]
    }
   ],
   "source": [
    "thislist = [\"apple\", \"banana\", \"cherry\", \"orange\", \"kiwi\", \"melon\", \"mango\"]\n",
    "print(thislist[-4:-1])"
   ]
  },
  {
   "cell_type": "markdown",
   "id": "a19fb0f5",
   "metadata": {},
   "source": [
    "## Change Item Value\n",
    "Belirli bir öğenin değerini değiştirmek için dizin numarasına bakın:"
   ]
  },
  {
   "cell_type": "code",
   "execution_count": 12,
   "id": "339f5ca6",
   "metadata": {},
   "outputs": [
    {
     "name": "stdout",
     "output_type": "stream",
     "text": [
      "['apple', 'blackcurrant', 'cherry']\n"
     ]
    }
   ],
   "source": [
    "thislist = [\"apple\", \"banana\", \"cherry\"]\n",
    "thislist[1] = \"blackcurrant\"\n",
    "print(thislist)"
   ]
  },
  {
   "cell_type": "markdown",
   "id": "db6869a7",
   "metadata": {},
   "source": [
    "## Append Items\n",
    "Listenin sonuna bir öğe eklemek için append() yöntemini kullanın:"
   ]
  },
  {
   "cell_type": "code",
   "execution_count": 13,
   "id": "0bfcc2c5",
   "metadata": {},
   "outputs": [
    {
     "name": "stdout",
     "output_type": "stream",
     "text": [
      "['apple', 'banana', 'cherry', 'orange']\n"
     ]
    }
   ],
   "source": [
    "thislist = [\"apple\", \"banana\", \"cherry\"]\n",
    "thislist.append(\"orange\")\n",
    "print(thislist)"
   ]
  },
  {
   "cell_type": "markdown",
   "id": "2583fe97",
   "metadata": {},
   "source": [
    "## Insert Items\n",
    "Belirtilen dizine bir liste öğesi eklemek için insert() yöntemini kullanın.\n",
    "\n",
    "insert() yöntemi belirtilen dizine bir öğe ekler:"
   ]
  },
  {
   "cell_type": "code",
   "execution_count": 15,
   "id": "c78cf5f1",
   "metadata": {},
   "outputs": [
    {
     "name": "stdout",
     "output_type": "stream",
     "text": [
      "['apple', 'orange', 'banana', 'cherry']\n"
     ]
    }
   ],
   "source": [
    "thislist = [\"apple\", \"banana\", \"cherry\"]\n",
    "thislist.insert(1, \"orange\")\n",
    "print(thislist)"
   ]
  },
  {
   "cell_type": "markdown",
   "id": "b90cdacd",
   "metadata": {},
   "source": [
    "## Remove Specified Item\n",
    "Remove() yöntemi belirtilen öğeyi kaldırır."
   ]
  },
  {
   "cell_type": "code",
   "execution_count": 16,
   "id": "87b0a0bd",
   "metadata": {},
   "outputs": [
    {
     "name": "stdout",
     "output_type": "stream",
     "text": [
      "['apple', 'cherry']\n"
     ]
    }
   ],
   "source": [
    "thislist = [\"apple\", \"banana\", \"cherry\"]\n",
    "thislist.remove(\"banana\")\n",
    "print(thislist)"
   ]
  },
  {
   "cell_type": "markdown",
   "id": "5c7a08ed",
   "metadata": {},
   "source": [
    "## Remove Specified Index\n",
    "pop() yöntemi belirtilen dizini kaldırır."
   ]
  },
  {
   "cell_type": "code",
   "execution_count": 17,
   "id": "630df6b1",
   "metadata": {},
   "outputs": [
    {
     "name": "stdout",
     "output_type": "stream",
     "text": [
      "['apple', 'cherry']\n"
     ]
    }
   ],
   "source": [
    "thislist = [\"apple\", \"banana\", \"cherry\"]\n",
    "thislist.pop(1)\n",
    "print(thislist)"
   ]
  },
  {
   "cell_type": "markdown",
   "id": "8e8711f8",
   "metadata": {},
   "source": [
    "## Loop Through a List\n",
    "Bir for döngüsü kullanarak liste öğeleri arasında geçiş yapabilirsiniz:"
   ]
  },
  {
   "cell_type": "code",
   "execution_count": 18,
   "id": "1b83a6a1",
   "metadata": {},
   "outputs": [
    {
     "name": "stdout",
     "output_type": "stream",
     "text": [
      "apple\n",
      "banana\n",
      "cherry\n"
     ]
    }
   ],
   "source": [
    "thislist = [\"apple\", \"banana\", \"cherry\"]\n",
    "for x in thislist:\n",
    "  print(x)"
   ]
  },
  {
   "cell_type": "markdown",
   "id": "27582402",
   "metadata": {},
   "source": [
    "## Sort List Alphanumerically\n",
    "Liste nesnelerinin, listeyi varsayılan olarak artan şekilde alfasayısal olarak sıralayacak bir sort() yöntemi vardır:"
   ]
  },
  {
   "cell_type": "code",
   "execution_count": 19,
   "id": "df2bcea8",
   "metadata": {},
   "outputs": [
    {
     "name": "stdout",
     "output_type": "stream",
     "text": [
      "['banana', 'kiwi', 'mango', 'orange', 'pineapple']\n"
     ]
    }
   ],
   "source": [
    "thislist = [\"orange\", \"mango\", \"kiwi\", \"pineapple\", \"banana\"]\n",
    "thislist.sort()\n",
    "print(thislist)"
   ]
  },
  {
   "cell_type": "markdown",
   "id": "17e3aa2f",
   "metadata": {},
   "source": [
    "## Join Two Lists\n",
    "Python'da iki veya daha fazla listeyi birleştirmenin veya birleştirmenin birkaç yolu vardır.\n",
    "\n",
    "En kolay yollardan biri + operatörünü kullanmaktır."
   ]
  },
  {
   "cell_type": "code",
   "execution_count": 20,
   "id": "3c8c3e53",
   "metadata": {},
   "outputs": [
    {
     "name": "stdout",
     "output_type": "stream",
     "text": [
      "['a', 'b', 'c', 1, 2, 3]\n"
     ]
    }
   ],
   "source": [
    "list1 = [\"a\", \"b\", \"c\"]\n",
    "list2 = [1, 2, 3]\n",
    "\n",
    "list3 = list1 + list2\n",
    "print(list3)"
   ]
  },
  {
   "cell_type": "code",
   "execution_count": null,
   "id": "c03eef45",
   "metadata": {},
   "outputs": [],
   "source": []
  }
 ],
 "metadata": {
  "kernelspec": {
   "display_name": "Python 3 (ipykernel)",
   "language": "python",
   "name": "python3"
  },
  "language_info": {
   "codemirror_mode": {
    "name": "ipython",
    "version": 3
   },
   "file_extension": ".py",
   "mimetype": "text/x-python",
   "name": "python",
   "nbconvert_exporter": "python",
   "pygments_lexer": "ipython3",
   "version": "3.9.16"
  }
 },
 "nbformat": 4,
 "nbformat_minor": 5
}
