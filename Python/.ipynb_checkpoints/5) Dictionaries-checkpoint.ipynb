{
 "cells": [
  {
   "cell_type": "markdown",
   "id": "5cda775f",
   "metadata": {},
   "source": [
    "# Python Dictionaries"
   ]
  },
  {
   "cell_type": "markdown",
   "id": "38200acd",
   "metadata": {},
   "source": [
    "Sözlükler, veri değerlerini anahtar:değer çiftlerinde depolamak için kullanılır.\n",
    "\n",
    "Sözlük, sıralı*, değiştirilebilir ve kopyalara izin vermeyen bir koleksiyondur.\n",
    "\n",
    "Python 3.7 sürümünden itibaren sözlükler sıralanmıştır. Python 3.6 ve önceki sürümlerde sözlükler sırasızdır."
   ]
  },
  {
   "cell_type": "code",
   "execution_count": 1,
   "id": "694b558e",
   "metadata": {},
   "outputs": [
    {
     "name": "stdout",
     "output_type": "stream",
     "text": [
      "{'brand': 'Ford', 'model': 'Mustang', 'year': 1964}\n"
     ]
    }
   ],
   "source": [
    "thisdict = {\n",
    "  \"brand\": \"Ford\",\n",
    "  \"model\": \"Mustang\",\n",
    "  \"year\": 1964\n",
    "}\n",
    "print(thisdict)"
   ]
  },
  {
   "cell_type": "markdown",
   "id": "2cb3a37e",
   "metadata": {},
   "source": [
    "### Dictionary Items\n",
    "Sözlük öğeleri sıralıdır, değiştirilebilir ve kopyalara izin verilmez.\n",
    "\n",
    "Sözlük öğeleri anahtar:değer çiftleri halinde sunulur ve anahtar adı kullanılarak başvurulabilir."
   ]
  },
  {
   "cell_type": "code",
   "execution_count": 2,
   "id": "93af75aa",
   "metadata": {},
   "outputs": [
    {
     "name": "stdout",
     "output_type": "stream",
     "text": [
      "Ford\n"
     ]
    }
   ],
   "source": [
    "thisdict = {\n",
    "  \"brand\": \"Ford\",\n",
    "  \"model\": \"Mustang\",\n",
    "  \"year\": 1964\n",
    "}\n",
    "print(thisdict[\"brand\"])"
   ]
  },
  {
   "cell_type": "markdown",
   "id": "e4083a71",
   "metadata": {},
   "source": [
    "## Accessing Items\n",
    "Bir sözlüğün öğelerine, köşeli parantez içindeki anahtar adına başvurarak erişebilirsiniz:"
   ]
  },
  {
   "cell_type": "code",
   "execution_count": 13,
   "id": "2ccb73e9",
   "metadata": {},
   "outputs": [],
   "source": [
    "thisdict = {\n",
    "  \"brand\": \"Ford\",\n",
    "  \"model\": \"Mustang\",\n",
    "  \"year\": 1964\n",
    "}\n",
    "x = thisdict[\"model\"]"
   ]
  },
  {
   "cell_type": "markdown",
   "id": "e6ddf6e7",
   "metadata": {},
   "source": [
    "Size aynı sonucu verecek olan get() adında bir yöntem de vardır:"
   ]
  },
  {
   "cell_type": "code",
   "execution_count": 4,
   "id": "89defa78",
   "metadata": {},
   "outputs": [],
   "source": [
    "x = thisdict.get(\"model\")"
   ]
  },
  {
   "cell_type": "markdown",
   "id": "c208b329",
   "metadata": {},
   "source": [
    "### Change Values\n",
    "Belirli bir öğenin değerini, anahtar adına bakarak değiştirebilirsiniz:"
   ]
  },
  {
   "cell_type": "code",
   "execution_count": 6,
   "id": "632b07d7",
   "metadata": {},
   "outputs": [],
   "source": [
    "thisdict = {\n",
    "  \"brand\": \"Ford\",\n",
    "  \"model\": \"Mustang\",\n",
    "  \"year\": 1964\n",
    "}\n",
    "thisdict[\"year\"] = 2018"
   ]
  },
  {
   "cell_type": "markdown",
   "id": "047957e6",
   "metadata": {},
   "source": [
    "### Adding Items\n",
    "Sözlüğe bir öğe eklemek, yeni bir dizin anahtarı kullanılarak ve ona bir değer atanarak yapılır:"
   ]
  },
  {
   "cell_type": "code",
   "execution_count": 7,
   "id": "53fb6a5b",
   "metadata": {},
   "outputs": [
    {
     "name": "stdout",
     "output_type": "stream",
     "text": [
      "{'brand': 'Ford', 'model': 'Mustang', 'year': 1964, 'color': 'red'}\n"
     ]
    }
   ],
   "source": [
    "thisdict = {\n",
    "  \"brand\": \"Ford\",\n",
    "  \"model\": \"Mustang\",\n",
    "  \"year\": 1964\n",
    "}\n",
    "thisdict[\"color\"] = \"red\"\n",
    "print(thisdict)"
   ]
  },
  {
   "cell_type": "markdown",
   "id": "e81e7c24",
   "metadata": {},
   "source": [
    "### Update Dictionary\n",
    "update() yöntemi, sözlüğü belirli bir argümandaki öğelerle güncelleyecektir. Öğe mevcut değilse, öğe eklenecektir.\n",
    "\n",
    "Bağımsız değişken bir sözlük veya anahtar:değer çiftlerine sahip yinelenebilir bir nesne olmalıdır."
   ]
  },
  {
   "cell_type": "code",
   "execution_count": 8,
   "id": "da3efa6d",
   "metadata": {},
   "outputs": [],
   "source": [
    "thisdict = {\n",
    "  \"brand\": \"Ford\",\n",
    "  \"model\": \"Mustang\",\n",
    "  \"year\": 1964\n",
    "}\n",
    "thisdict.update({\"color\": \"red\"})"
   ]
  },
  {
   "cell_type": "markdown",
   "id": "4db56eeb",
   "metadata": {},
   "source": [
    "### Removing Items\n",
    "Bir sözlükten öğeleri kaldırmanın birkaç yöntemi vardır:"
   ]
  },
  {
   "cell_type": "markdown",
   "id": "aa6f5ca5",
   "metadata": {},
   "source": [
    "pop() yöntemi, belirtilen anahtar adına sahip öğeyi kaldırır:"
   ]
  },
  {
   "cell_type": "code",
   "execution_count": 9,
   "id": "248c340f",
   "metadata": {},
   "outputs": [
    {
     "name": "stdout",
     "output_type": "stream",
     "text": [
      "{'brand': 'Ford', 'year': 1964}\n"
     ]
    }
   ],
   "source": [
    "thisdict = {\n",
    "  \"brand\": \"Ford\",\n",
    "  \"model\": \"Mustang\",\n",
    "  \"year\": 1964\n",
    "}\n",
    "thisdict.pop(\"model\")\n",
    "print(thisdict)"
   ]
  },
  {
   "cell_type": "markdown",
   "id": "ad9c3c4f",
   "metadata": {},
   "source": [
    "popitem() yöntemi son eklenen öğeyi kaldırır (3.7'den önceki sürümlerde bunun yerine rastgele bir öğe kaldırılır):"
   ]
  },
  {
   "cell_type": "code",
   "execution_count": 10,
   "id": "824eb2c9",
   "metadata": {},
   "outputs": [
    {
     "name": "stdout",
     "output_type": "stream",
     "text": [
      "{'brand': 'Ford', 'model': 'Mustang'}\n"
     ]
    }
   ],
   "source": [
    "thisdict = {\n",
    "  \"brand\": \"Ford\",\n",
    "  \"model\": \"Mustang\",\n",
    "  \"year\": 1964\n",
    "}\n",
    "thisdict.popitem()\n",
    "print(thisdict)"
   ]
  },
  {
   "cell_type": "markdown",
   "id": "5f188a4e",
   "metadata": {},
   "source": [
    "## Loop Through a Dictionary\n",
    "For döngüsü kullanarak bir sözlükte döngü yapabilirsiniz.\n",
    "\n",
    "Bir sözlükte döngü yaparken, dönüş değeri sözlüğün anahtarlarıdır, ancak değerleri döndürmenin de yöntemleri vardır."
   ]
  },
  {
   "cell_type": "markdown",
   "id": "b2854a24",
   "metadata": {},
   "source": [
    "Sözlükteki tüm önemli keys adları tek tek yazdırın:"
   ]
  },
  {
   "cell_type": "code",
   "execution_count": 14,
   "id": "66e46239",
   "metadata": {},
   "outputs": [
    {
     "name": "stdout",
     "output_type": "stream",
     "text": [
      "brand\n",
      "model\n",
      "year\n"
     ]
    }
   ],
   "source": [
    "for x in thisdict:\n",
    "  print(x)"
   ]
  },
  {
   "cell_type": "markdown",
   "id": "47948f8b",
   "metadata": {},
   "source": [
    "Sözlükteki tüm value tek tek yazdırın:"
   ]
  },
  {
   "cell_type": "code",
   "execution_count": 15,
   "id": "3c303444",
   "metadata": {},
   "outputs": [
    {
     "name": "stdout",
     "output_type": "stream",
     "text": [
      "Ford\n",
      "Mustang\n",
      "1964\n"
     ]
    }
   ],
   "source": [
    "for x in thisdict:\n",
    "  print(thisdict[x])"
   ]
  },
  {
   "cell_type": "markdown",
   "id": "3a78d997",
   "metadata": {},
   "source": [
    "Bir sözlüğün value döndürmek için value() yöntemini de kullanabilirsiniz:"
   ]
  },
  {
   "cell_type": "code",
   "execution_count": 16,
   "id": "ab29636c",
   "metadata": {},
   "outputs": [
    {
     "name": "stdout",
     "output_type": "stream",
     "text": [
      "Ford\n",
      "Mustang\n",
      "1964\n"
     ]
    }
   ],
   "source": [
    "for x in thisdict.values():\n",
    "  print(x)"
   ]
  },
  {
   "cell_type": "markdown",
   "id": "25be727f",
   "metadata": {},
   "source": [
    "Bir sözlüğün keys döndürmek için tuşları() yöntemini kullanabilirsiniz:"
   ]
  },
  {
   "cell_type": "code",
   "execution_count": 17,
   "id": "b4502a11",
   "metadata": {},
   "outputs": [
    {
     "name": "stdout",
     "output_type": "stream",
     "text": [
      "brand\n",
      "model\n",
      "year\n"
     ]
    }
   ],
   "source": [
    "for x in thisdict.keys():\n",
    "  print(x)"
   ]
  },
  {
   "cell_type": "markdown",
   "id": "eea30d05",
   "metadata": {},
   "source": [
    "items() yöntemini kullanarak hem keyshem de value arasında döngü yapın:"
   ]
  },
  {
   "cell_type": "code",
   "execution_count": 18,
   "id": "f9a39dc0",
   "metadata": {},
   "outputs": [
    {
     "name": "stdout",
     "output_type": "stream",
     "text": [
      "brand Ford\n",
      "model Mustang\n",
      "year 1964\n"
     ]
    }
   ],
   "source": [
    "for x, y in thisdict.items():\n",
    "  print(x, y)"
   ]
  },
  {
   "cell_type": "code",
   "execution_count": null,
   "id": "57d0ae8c",
   "metadata": {},
   "outputs": [],
   "source": []
  }
 ],
 "metadata": {
  "kernelspec": {
   "display_name": "Python 3 (ipykernel)",
   "language": "python",
   "name": "python3"
  },
  "language_info": {
   "codemirror_mode": {
    "name": "ipython",
    "version": 3
   },
   "file_extension": ".py",
   "mimetype": "text/x-python",
   "name": "python",
   "nbconvert_exporter": "python",
   "pygments_lexer": "ipython3",
   "version": "3.9.16"
  }
 },
 "nbformat": 4,
 "nbformat_minor": 5
}
