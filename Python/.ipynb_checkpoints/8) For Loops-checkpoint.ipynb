{
 "cells": [
  {
   "cell_type": "markdown",
   "id": "47a21934",
   "metadata": {},
   "source": [
    "# Python For Loops"
   ]
  },
  {
   "cell_type": "markdown",
   "id": "1b7e85e1",
   "metadata": {},
   "source": [
    "Bir for döngüsü, bir dizi (yani bir liste, bir tanımlama grubu, bir sözlük, bir küme veya bir dize) üzerinde yineleme yapmak için kullanılır.\n",
    "\n",
    "Bu, diğer programlama dillerindeki for anahtar sözcüğüne daha az benzer ve daha çok diğer nesne yönelimli programlama dillerinde bulunan yineleme yöntemi gibi çalışır.\n",
    "\n",
    "For döngüsüyle bir liste, tuple, set vb. içindeki her öğe için bir dizi ifadeyi bir kez çalıştırabiliriz."
   ]
  },
  {
   "cell_type": "code",
   "execution_count": 1,
   "id": "0bd44975",
   "metadata": {},
   "outputs": [
    {
     "name": "stdout",
     "output_type": "stream",
     "text": [
      "apple\n",
      "banana\n",
      "cherry\n"
     ]
    }
   ],
   "source": [
    "fruits = [\"apple\", \"banana\", \"cherry\"]\n",
    "for x in fruits:\n",
    "  print(x)"
   ]
  },
  {
   "cell_type": "markdown",
   "id": "b5c76b1d",
   "metadata": {},
   "source": [
    "### Looping Through a String\n",
    "Dizeler yinelenebilir nesneler olsa da bir dizi karakter içerirler:"
   ]
  },
  {
   "cell_type": "code",
   "execution_count": 2,
   "id": "f9c2c70e",
   "metadata": {},
   "outputs": [
    {
     "name": "stdout",
     "output_type": "stream",
     "text": [
      "b\n",
      "a\n",
      "n\n",
      "a\n",
      "n\n",
      "a\n"
     ]
    }
   ],
   "source": [
    "for x in \"banana\":\n",
    "  print(x)"
   ]
  },
  {
   "cell_type": "markdown",
   "id": "74e0f66d",
   "metadata": {},
   "source": [
    "### The break Statement\n",
    "Break deyimiyle döngüyü tüm öğeler arasında dolaşmadan önce durdurabiliriz:"
   ]
  },
  {
   "cell_type": "code",
   "execution_count": 3,
   "id": "c6082262",
   "metadata": {},
   "outputs": [
    {
     "name": "stdout",
     "output_type": "stream",
     "text": [
      "apple\n",
      "banana\n"
     ]
    }
   ],
   "source": [
    "fruits = [\"apple\", \"banana\", \"cherry\"]\n",
    "for x in fruits:\n",
    "  print(x)\n",
    "  if x == \"banana\":\n",
    "    break"
   ]
  },
  {
   "cell_type": "markdown",
   "id": "36be9c3c",
   "metadata": {},
   "source": [
    "For Loops icerisinde break görelim"
   ]
  },
  {
   "cell_type": "code",
   "execution_count": 5,
   "id": "25c0837a",
   "metadata": {},
   "outputs": [
    {
     "name": "stdout",
     "output_type": "stream",
     "text": [
      "apple\n"
     ]
    }
   ],
   "source": [
    "fruits = [\"apple\", \"banana\", \"cherry\"]\n",
    "for x in fruits:\n",
    "  if x == \"banana\":\n",
    "    break\n",
    "  print(x)"
   ]
  },
  {
   "cell_type": "markdown",
   "id": "f2fc1d36",
   "metadata": {},
   "source": [
    "### The continue Statement\n",
    "Continue ifadesi ile döngünün mevcut yinelemesini durdurabilir ve bir sonraki adıma devam edebiliriz:"
   ]
  },
  {
   "cell_type": "code",
   "execution_count": 6,
   "id": "5de4002b",
   "metadata": {},
   "outputs": [
    {
     "name": "stdout",
     "output_type": "stream",
     "text": [
      "apple\n",
      "cherry\n"
     ]
    }
   ],
   "source": [
    "fruits = [\"apple\", \"banana\", \"cherry\"]\n",
    "for x in fruits:\n",
    "  if x == \"banana\":\n",
    "    continue\n",
    "  print(x)"
   ]
  },
  {
   "cell_type": "markdown",
   "id": "824d0777",
   "metadata": {},
   "source": [
    "### The range() Function\n",
    "Bir kod kümesinde belirli sayıda döngü yapmak için range() işlevini kullanabiliriz,\n",
    "range() işlevi, varsayılan olarak 0'dan başlayan ve 1 (varsayılan olarak) artan ve belirtilen sayıda biten bir sayı dizisi döndürür."
   ]
  },
  {
   "cell_type": "code",
   "execution_count": 7,
   "id": "906374dc",
   "metadata": {},
   "outputs": [
    {
     "name": "stdout",
     "output_type": "stream",
     "text": [
      "0\n",
      "1\n",
      "2\n",
      "3\n",
      "4\n",
      "5\n"
     ]
    }
   ],
   "source": [
    "for x in range(6):\n",
    "  print(x)"
   ]
  },
  {
   "cell_type": "markdown",
   "id": "b95713d4",
   "metadata": {},
   "source": [
    "range() işlevi, başlangıç değeri olarak varsayılan olarak 0'dır, ancak bir parametre ekleyerek başlangıç değerini belirlemek mümkündür: range(2, 6), bu, 2'den 6'ya kadar olan değerler anlamına gelir (ancak 6 hariç):"
   ]
  },
  {
   "cell_type": "code",
   "execution_count": 8,
   "id": "c33ffd92",
   "metadata": {},
   "outputs": [
    {
     "name": "stdout",
     "output_type": "stream",
     "text": [
      "2\n",
      "3\n",
      "4\n",
      "5\n"
     ]
    }
   ],
   "source": [
    "for x in range(2, 6):\n",
    "  print(x)"
   ]
  },
  {
   "cell_type": "markdown",
   "id": "768b732e",
   "metadata": {},
   "source": [
    "range() işlevi varsayılan olarak diziyi 1 birim artırır, ancak artış değerini üçüncü bir parametre ekleyerek belirtmek mümkündür: range(2, 30, 3):"
   ]
  },
  {
   "cell_type": "code",
   "execution_count": 9,
   "id": "98b07368",
   "metadata": {},
   "outputs": [
    {
     "name": "stdout",
     "output_type": "stream",
     "text": [
      "2\n",
      "5\n",
      "8\n",
      "11\n",
      "14\n",
      "17\n",
      "20\n",
      "23\n",
      "26\n",
      "29\n"
     ]
    }
   ],
   "source": [
    "for x in range(2, 30, 3):\n",
    "  print(x)"
   ]
  },
  {
   "cell_type": "markdown",
   "id": "5e564b64",
   "metadata": {},
   "source": [
    "### Else in For Loop\n",
    "for döngüsündeki else anahtar sözcüğü, döngü tamamlandığında yürütülecek kod bloğunu belirtir:"
   ]
  },
  {
   "cell_type": "code",
   "execution_count": 10,
   "id": "f86c0400",
   "metadata": {},
   "outputs": [
    {
     "name": "stdout",
     "output_type": "stream",
     "text": [
      "0\n",
      "1\n",
      "2\n",
      "3\n",
      "4\n",
      "5\n",
      "Finally finished!\n"
     ]
    }
   ],
   "source": [
    "for x in range(6):\n",
    "  print(x)\n",
    "else:\n",
    "  print(\"Finally finished!\")"
   ]
  },
  {
   "cell_type": "markdown",
   "id": "82e843f1",
   "metadata": {},
   "source": [
    "Not: Eğer döngü bir break ifadesiyle durdurulursa else bloğu ÇALIŞTIRILMAYACAKTIR."
   ]
  },
  {
   "cell_type": "code",
   "execution_count": 11,
   "id": "2c5dfd6a",
   "metadata": {},
   "outputs": [
    {
     "name": "stdout",
     "output_type": "stream",
     "text": [
      "0\n",
      "1\n",
      "2\n"
     ]
    }
   ],
   "source": [
    "for x in range(6):\n",
    "  if x == 3: break\n",
    "  print(x)\n",
    "else:\n",
    "  print(\"Finally finished!\")"
   ]
  },
  {
   "cell_type": "markdown",
   "id": "d56604e8",
   "metadata": {},
   "source": [
    "### Nested Loops\n",
    "İç içe döngü, döngü içindeki döngüdür.\n",
    "\n",
    "\"İç döngü\", \"dış döngü\"nün her yinelemesinde bir kez yürütülecektir:"
   ]
  },
  {
   "cell_type": "code",
   "execution_count": 12,
   "id": "df659da2",
   "metadata": {},
   "outputs": [
    {
     "name": "stdout",
     "output_type": "stream",
     "text": [
      "red apple\n",
      "red banana\n",
      "red cherry\n",
      "big apple\n",
      "big banana\n",
      "big cherry\n",
      "tasty apple\n",
      "tasty banana\n",
      "tasty cherry\n"
     ]
    }
   ],
   "source": [
    "adj = [\"red\", \"big\", \"tasty\"]\n",
    "fruits = [\"apple\", \"banana\", \"cherry\"]\n",
    "\n",
    "for x in adj:\n",
    "  for y in fruits:\n",
    "    print(x, y)"
   ]
  },
  {
   "cell_type": "markdown",
   "id": "bdca23d8",
   "metadata": {},
   "source": [
    "### The pass Statement\n",
    "for döngüleri boş olamaz, ancak herhangi bir nedenle içeriği olmayan bir for döngünüz varsa, hata almayı önlemek için pass ifadesini kullanın."
   ]
  },
  {
   "cell_type": "code",
   "execution_count": 13,
   "id": "71a66440",
   "metadata": {},
   "outputs": [],
   "source": [
    "for x in [0, 1, 2]:\n",
    "  pass"
   ]
  },
  {
   "cell_type": "code",
   "execution_count": null,
   "id": "5acc7db5",
   "metadata": {},
   "outputs": [],
   "source": []
  }
 ],
 "metadata": {
  "kernelspec": {
   "display_name": "Python 3 (ipykernel)",
   "language": "python",
   "name": "python3"
  },
  "language_info": {
   "codemirror_mode": {
    "name": "ipython",
    "version": 3
   },
   "file_extension": ".py",
   "mimetype": "text/x-python",
   "name": "python",
   "nbconvert_exporter": "python",
   "pygments_lexer": "ipython3",
   "version": "3.9.16"
  }
 },
 "nbformat": 4,
 "nbformat_minor": 5
}
