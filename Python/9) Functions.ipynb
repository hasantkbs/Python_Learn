{
 "cells": [
  {
   "cell_type": "markdown",
   "id": "c9a5a704",
   "metadata": {},
   "source": [
    "# Python Functions"
   ]
  },
  {
   "cell_type": "markdown",
   "id": "42c37155",
   "metadata": {},
   "source": [
    "Fonksiyon, yalnızca çağrıldığında çalışan bir kod bloğudur.\n",
    "\n",
    "Parametre olarak bilinen verileri bir fonksiyona aktarabilirsiniz.\n",
    "\n",
    "Bir işlev sonuç olarak verileri döndürebilir."
   ]
  },
  {
   "cell_type": "markdown",
   "id": "2200e146",
   "metadata": {},
   "source": [
    "### Creating Functions \n",
    "Python'da bir işlev def anahtar sözcüğü kullanılarak tanımlanır:"
   ]
  },
  {
   "cell_type": "code",
   "execution_count": 1,
   "id": "6f221c7a",
   "metadata": {},
   "outputs": [],
   "source": [
    "def my_function():\n",
    "  print(\"Hello from a function\")"
   ]
  },
  {
   "cell_type": "markdown",
   "id": "43672fa4",
   "metadata": {},
   "source": [
    "### Calling a function\n",
    "Bir işlevi çağırmak için işlev adını ve ardından parantez kullanın:"
   ]
  },
  {
   "cell_type": "code",
   "execution_count": 3,
   "id": "b507023d",
   "metadata": {},
   "outputs": [
    {
     "name": "stdout",
     "output_type": "stream",
     "text": [
      "Hello from a function\n"
     ]
    }
   ],
   "source": [
    "def my_function():\n",
    "  print(\"Hello from a function\")\n",
    "\n",
    "my_function()"
   ]
  },
  {
   "cell_type": "markdown",
   "id": "9f27c60a",
   "metadata": {},
   "source": [
    "### Arguments\n",
    "Bilgiler argümanlar olarak işlevlere aktarılabilir.\n",
    "\n",
    "Bağımsız değişkenler, işlev adından sonra parantez içinde belirtilir. İstediğiniz kadar argüman ekleyebilirsiniz, sadece virgülle ayırın.\n",
    "\n",
    "Aşağıdaki örnekte tek bağımsız değişkene (fname) sahip bir işlev vardır. İşlev çağrıldığında, işlevin içinde tam adı yazdırmak için kullanılan bir adı iletiriz:"
   ]
  },
  {
   "cell_type": "code",
   "execution_count": 4,
   "id": "2ce5ef1e",
   "metadata": {},
   "outputs": [
    {
     "name": "stdout",
     "output_type": "stream",
     "text": [
      "Emil Refsnes\n",
      "Tobias Refsnes\n",
      "Linus Refsnes\n"
     ]
    }
   ],
   "source": [
    "def my_function(fname):\n",
    "  print(fname + \" Refsnes\")\n",
    "\n",
    "my_function(\"Emil\")\n",
    "my_function(\"Tobias\")\n",
    "my_function(\"Linus\")"
   ]
  },
  {
   "cell_type": "markdown",
   "id": "581c2cb9",
   "metadata": {},
   "source": [
    "### Parameters or Arguments?\n",
    "Parametre ve argüman terimleri aynı şey için kullanılabilir: bir fonksiyona aktarılan bilgiler."
   ]
  },
  {
   "cell_type": "markdown",
   "id": "25afe61f",
   "metadata": {},
   "source": [
    "### Number of Arguments\n",
    "Varsayılan olarak, bir fonksiyonun doğru sayıda argümanla çağrılması gerekir. Yani, eğer fonksiyonunuz 2 argüman bekliyorsa, fonksiyonu 2 argümanla çağırmanız gerekir; ne daha fazla ne de daha az."
   ]
  },
  {
   "cell_type": "code",
   "execution_count": 5,
   "id": "c9bacda4",
   "metadata": {},
   "outputs": [
    {
     "name": "stdout",
     "output_type": "stream",
     "text": [
      "Emil Refsnes\n"
     ]
    }
   ],
   "source": [
    "def my_function(fname, lname):\n",
    "  print(fname + \" \" + lname)\n",
    "\n",
    "my_function(\"Emil\", \"Refsnes\")"
   ]
  },
  {
   "cell_type": "markdown",
   "id": "3b9f148f",
   "metadata": {},
   "source": [
    "### Arbitrary Arguments, *args\n",
    "İşlevinize kaç bağımsız değişkenin aktarılacağını bilmiyorsanız, işlev tanımında parametre adının önüne * ekleyin.\n",
    "\n",
    "Bu şekilde fonksiyon bir takım argümanlar alır ve öğelere buna göre erişebilir:"
   ]
  },
  {
   "cell_type": "code",
   "execution_count": 7,
   "id": "a21dc372",
   "metadata": {},
   "outputs": [
    {
     "name": "stdout",
     "output_type": "stream",
     "text": [
      "The youngest child is Linus\n"
     ]
    }
   ],
   "source": [
    "def my_function(*kids):\n",
    "  print(\"The youngest child is \" + kids[2])\n",
    "\n",
    "my_function(\"Emil\", \"Tobias\", \"Linus\",\"Hasan\")"
   ]
  },
  {
   "cell_type": "markdown",
   "id": "3dbfaef5",
   "metadata": {},
   "source": [
    "### Keyword Arguments\n",
    "Ayrıca anahtar = değer sözdizimini kullanarak da argümanlar gönderebilirsiniz.\n",
    "\n",
    "Bu şekilde argümanların sırası önemli değildir."
   ]
  },
  {
   "cell_type": "code",
   "execution_count": 8,
   "id": "c57a6d7e",
   "metadata": {},
   "outputs": [
    {
     "name": "stdout",
     "output_type": "stream",
     "text": [
      "The youngest child is Linus\n"
     ]
    }
   ],
   "source": [
    "def my_function(child3, child2, child1):\n",
    "  print(\"The youngest child is \" + child3)\n",
    "\n",
    "my_function(child1 = \"Emil\", child2 = \"Tobias\", child3 = \"Linus\")"
   ]
  },
  {
   "cell_type": "markdown",
   "id": "e2dbffe8",
   "metadata": {},
   "source": [
    "### Arbitrary Keyword Arguments, **kwargs\n",
    "İşlevinize kaç anahtar sözcük bağımsız değişkeninin aktarılacağını bilmiyorsanız, işlev tanımında parametre adının önüne iki yıldız işareti ekleyin: **.\n",
    "\n",
    "Bu şekilde işlev bir argüman sözlüğü alır ve öğelere buna göre erişebilir:"
   ]
  },
  {
   "cell_type": "code",
   "execution_count": 9,
   "id": "6b411c96",
   "metadata": {},
   "outputs": [
    {
     "name": "stdout",
     "output_type": "stream",
     "text": [
      "His last name is Refsnes\n"
     ]
    }
   ],
   "source": [
    "def my_function(**kid):\n",
    "  print(\"His last name is \" + kid[\"lname\"])\n",
    "\n",
    "my_function(fname = \"Tobias\", lname = \"Refsnes\")"
   ]
  },
  {
   "cell_type": "markdown",
   "id": "c00ef16f",
   "metadata": {},
   "source": [
    "### Default Parameter Value\n",
    "Aşağıdaki örnek, varsayılan parametre değerinin nasıl kullanılacağını gösterir.\n",
    "\n",
    "Eğer fonksiyonu argüman olmadan çağırırsak, varsayılan değeri kullanır:"
   ]
  },
  {
   "cell_type": "code",
   "execution_count": 10,
   "id": "7236054e",
   "metadata": {},
   "outputs": [
    {
     "name": "stdout",
     "output_type": "stream",
     "text": [
      "I am from Sweden\n",
      "I am from India\n",
      "I am from Norway\n",
      "I am from Brazil\n"
     ]
    }
   ],
   "source": [
    "def my_function(country = \"Norway\"):\n",
    "  print(\"I am from \" + country)\n",
    "\n",
    "my_function(\"Sweden\")\n",
    "my_function(\"India\")\n",
    "my_function()\n",
    "my_function(\"Brazil\")"
   ]
  },
  {
   "cell_type": "markdown",
   "id": "53a889a9",
   "metadata": {},
   "source": [
    "### Passing a List as an Argument\n",
    "Bir işleve herhangi bir veri türü argümanını (dize, sayı, liste, sözlük vb.) gönderebilirsiniz; bu, işlevin içindeki aynı veri türü olarak ele alınacaktır.\n",
    "\n",
    "Örneğin. Eğer bir List'i argüman olarak gönderirseniz, fonksiyona ulaştığında hala bir List olacaktır:"
   ]
  },
  {
   "cell_type": "code",
   "execution_count": 11,
   "id": "87a62c86",
   "metadata": {},
   "outputs": [
    {
     "name": "stdout",
     "output_type": "stream",
     "text": [
      "apple\n",
      "banana\n",
      "cherry\n"
     ]
    }
   ],
   "source": [
    "def my_function(food):\n",
    "  for x in food:\n",
    "    print(x)\n",
    "\n",
    "fruits = [\"apple\", \"banana\", \"cherry\"]\n",
    "\n",
    "my_function(fruits)"
   ]
  },
  {
   "cell_type": "markdown",
   "id": "d11fe3c8",
   "metadata": {},
   "source": [
    "### Return Values\n",
    "Bir fonksiyonun değer döndürmesine izin vermek için return ifadesini kullanın:"
   ]
  },
  {
   "cell_type": "code",
   "execution_count": 12,
   "id": "7cae4408",
   "metadata": {},
   "outputs": [
    {
     "name": "stdout",
     "output_type": "stream",
     "text": [
      "15\n",
      "25\n",
      "45\n"
     ]
    }
   ],
   "source": [
    "def my_function(x):\n",
    "  return 5 * x\n",
    "\n",
    "print(my_function(3))\n",
    "print(my_function(5))\n",
    "print(my_function(9))"
   ]
  },
  {
   "cell_type": "markdown",
   "id": "d26e5a07",
   "metadata": {},
   "source": [
    "### The pass Statement\n",
    "işlev tanımları boş olamaz, ancak herhangi bir nedenle içeriği olmayan bir işlev tanımınız varsa, hata almamak için pass ifadesini ekleyin."
   ]
  },
  {
   "cell_type": "code",
   "execution_count": 13,
   "id": "e4202e2b",
   "metadata": {},
   "outputs": [],
   "source": [
    "def myfunction():\n",
    "  pass"
   ]
  },
  {
   "cell_type": "markdown",
   "id": "695c1101",
   "metadata": {},
   "source": [
    "### Positional-Only Arguments\n",
    "Bir fonksiyonun YALNIZCA konumsal bağımsız değişkenlere veya YALNIZCA anahtar kelime bağımsız değişkenlerine sahip olabileceğini belirtebilirsiniz.\n",
    "\n",
    "Bir işlevin yalnızca konumsal bağımsız değişkenlere sahip olabileceğini belirtmek için bağımsız değişkenlerden sonra / ekleyin:"
   ]
  },
  {
   "cell_type": "code",
   "execution_count": 14,
   "id": "e293889c",
   "metadata": {},
   "outputs": [
    {
     "name": "stdout",
     "output_type": "stream",
     "text": [
      "3\n"
     ]
    }
   ],
   "source": [
    "def my_function(x, /):\n",
    "  print(x)\n",
    "\n",
    "my_function(3)"
   ]
  },
  {
   "cell_type": "markdown",
   "id": "c5dbd062",
   "metadata": {},
   "source": [
    ", / olmadan, işlev konumsal argümanlar beklese bile aslında anahtar kelime argümanlarını kullanmanıza izin verilir:"
   ]
  },
  {
   "cell_type": "code",
   "execution_count": 15,
   "id": "a4cea64a",
   "metadata": {},
   "outputs": [
    {
     "name": "stdout",
     "output_type": "stream",
     "text": [
      "3\n"
     ]
    }
   ],
   "source": [
    "def my_function(x):\n",
    "  print(x)\n",
    "\n",
    "my_function(x = 3)"
   ]
  },
  {
   "cell_type": "markdown",
   "id": "8763ae77",
   "metadata": {},
   "source": [
    "Ancak , / eklerken bir anahtar kelime argümanı göndermeye çalışırsanız bir hata alırsınız:"
   ]
  },
  {
   "cell_type": "code",
   "execution_count": 16,
   "id": "255dcb6a",
   "metadata": {},
   "outputs": [
    {
     "ename": "TypeError",
     "evalue": "my_function() got some positional-only arguments passed as keyword arguments: 'x'",
     "output_type": "error",
     "traceback": [
      "\u001b[0;31m---------------------------------------------------------------------------\u001b[0m",
      "\u001b[0;31mTypeError\u001b[0m                                 Traceback (most recent call last)",
      "Cell \u001b[0;32mIn[16], line 4\u001b[0m\n\u001b[1;32m      1\u001b[0m \u001b[38;5;28;01mdef\u001b[39;00m \u001b[38;5;21mmy_function\u001b[39m(x, \u001b[38;5;241m/\u001b[39m):\n\u001b[1;32m      2\u001b[0m   \u001b[38;5;28mprint\u001b[39m(x)\n\u001b[0;32m----> 4\u001b[0m \u001b[43mmy_function\u001b[49m\u001b[43m(\u001b[49m\u001b[43mx\u001b[49m\u001b[43m \u001b[49m\u001b[38;5;241;43m=\u001b[39;49m\u001b[43m \u001b[49m\u001b[38;5;241;43m3\u001b[39;49m\u001b[43m)\u001b[49m\n",
      "\u001b[0;31mTypeError\u001b[0m: my_function() got some positional-only arguments passed as keyword arguments: 'x'"
     ]
    }
   ],
   "source": [
    "def my_function(x, /):\n",
    "  print(x)\n",
    "\n",
    "my_function(x = 3)"
   ]
  },
  {
   "cell_type": "markdown",
   "id": "0675338b",
   "metadata": {},
   "source": [
    "### Keyword-Only Arguments\n",
    "Bir işlevin yalnızca anahtar kelime bağımsız değişkenlerine sahip olabileceğini belirtmek için bağımsız değişkenlerin önüne * ekleyin:"
   ]
  },
  {
   "cell_type": "code",
   "execution_count": 17,
   "id": "42ebbc4c",
   "metadata": {},
   "outputs": [
    {
     "name": "stdout",
     "output_type": "stream",
     "text": [
      "3\n"
     ]
    }
   ],
   "source": [
    "def my_function(*, x):\n",
    "  print(x)\n",
    "\n",
    "my_function(x = 3)"
   ]
  },
  {
   "cell_type": "markdown",
   "id": "362dd1ad",
   "metadata": {},
   "source": [
    ".* olmadan, işlev anahtar kelime bağımsız değişkenleri beklese bile konumsal bağımsız değişkenleri kullanmanıza izin verilir:"
   ]
  },
  {
   "cell_type": "code",
   "execution_count": 18,
   "id": "d5209131",
   "metadata": {},
   "outputs": [
    {
     "name": "stdout",
     "output_type": "stream",
     "text": [
      "3\n"
     ]
    }
   ],
   "source": [
    "def my_function(x):\n",
    "  print(x)\n",
    "\n",
    "my_function(3)"
   ]
  },
  {
   "cell_type": "markdown",
   "id": "81e213d5",
   "metadata": {},
   "source": [
    "Ancak *, / karakterini eklerken konumsal bir argüman göndermeye çalışırsanız bir hata alırsınız:"
   ]
  },
  {
   "cell_type": "code",
   "execution_count": 19,
   "id": "d14aa084",
   "metadata": {},
   "outputs": [
    {
     "ename": "TypeError",
     "evalue": "my_function() takes 0 positional arguments but 1 was given",
     "output_type": "error",
     "traceback": [
      "\u001b[0;31m---------------------------------------------------------------------------\u001b[0m",
      "\u001b[0;31mTypeError\u001b[0m                                 Traceback (most recent call last)",
      "Cell \u001b[0;32mIn[19], line 4\u001b[0m\n\u001b[1;32m      1\u001b[0m \u001b[38;5;28;01mdef\u001b[39;00m \u001b[38;5;21mmy_function\u001b[39m(\u001b[38;5;241m*\u001b[39m, x):\n\u001b[1;32m      2\u001b[0m   \u001b[38;5;28mprint\u001b[39m(x)\n\u001b[0;32m----> 4\u001b[0m \u001b[43mmy_function\u001b[49m\u001b[43m(\u001b[49m\u001b[38;5;241;43m3\u001b[39;49m\u001b[43m)\u001b[49m\n",
      "\u001b[0;31mTypeError\u001b[0m: my_function() takes 0 positional arguments but 1 was given"
     ]
    }
   ],
   "source": [
    "def my_function(*, x):\n",
    "  print(x)\n",
    "\n",
    "my_function(3)"
   ]
  },
  {
   "cell_type": "markdown",
   "id": "c2701958",
   "metadata": {},
   "source": [
    "### Combine Positional-Only and Keyword-Only\n",
    "İki bağımsız değişken türünü aynı işlevde birleştirebilirsiniz.\n",
    "\n",
    "/'den önceki herhangi bir argüman yalnızca konumsaldır ve *'dan sonraki herhangi bir argüman yalnızca anahtar kelimedir."
   ]
  },
  {
   "cell_type": "code",
   "execution_count": 20,
   "id": "4a28d702",
   "metadata": {},
   "outputs": [
    {
     "name": "stdout",
     "output_type": "stream",
     "text": [
      "26\n"
     ]
    }
   ],
   "source": [
    "def my_function(a, b, /, *, c, d):\n",
    "  print(a + b + c + d)\n",
    "\n",
    "my_function(5, 6, c = 7, d = 8)"
   ]
  },
  {
   "cell_type": "markdown",
   "id": "ad3e442d",
   "metadata": {},
   "source": [
    "### Recursion\n",
    "\n",
    "Python ayrıca işlev özyinelemesini de kabul eder; bu, tanımlanmış bir işlevin kendisini çağırabileceği anlamına gelir.\n",
    "\n",
    "Özyineleme yaygın bir matematik ve programlama kavramıdır. Bu, bir fonksiyonun kendisini çağırdığı anlamına gelir. Bunun faydası, bir sonuca ulaşmak için veriler arasında geçiş yapabileceğiniz anlamına gelir.\n",
    "\n",
    "Geliştiricinin özyineleme konusunda çok dikkatli olması gerekir, çünkü hiçbir zaman sona ermeyen veya aşırı miktarda bellek veya işlemci gücü kullanan bir işlevi yazmaya geçmek oldukça kolay olabilir. Bununla birlikte, doğru yazıldığında özyineleme, programlamaya çok verimli ve matematiksel açıdan zarif bir yaklaşım olabilir.\n",
    "\n",
    "Bu örnekte tri_recursion(), kendisini (\"recurse\") çağırmak üzere tanımladığımız bir fonksiyondur. Veri olarak her yinelememizde (-1) azalan k değişkenini kullanırız. Koşul 0'dan büyük olmadığında (yani 0 olduğunda) özyineleme sona erer.\n",
    "\n",
    "Yeni bir geliştiricinin bunun tam olarak nasıl çalıştığını anlaması biraz zaman alabilir; bunu öğrenmenin en iyi yolu onu test etmek ve değiştirmektir."
   ]
  },
  {
   "cell_type": "code",
   "execution_count": 21,
   "id": "84c41b61",
   "metadata": {},
   "outputs": [
    {
     "name": "stdout",
     "output_type": "stream",
     "text": [
      "\n",
      "\n",
      "Recursion Example Results\n",
      "1\n",
      "3\n",
      "6\n",
      "10\n",
      "15\n",
      "21\n"
     ]
    },
    {
     "data": {
      "text/plain": [
       "21"
      ]
     },
     "execution_count": 21,
     "metadata": {},
     "output_type": "execute_result"
    }
   ],
   "source": [
    "def tri_recursion(k):\n",
    "  if(k > 0):\n",
    "    result = k + tri_recursion(k - 1)\n",
    "    print(result)\n",
    "  else:\n",
    "    result = 0\n",
    "  return result\n",
    "\n",
    "print(\"\\n\\nRecursion Example Results\")\n",
    "tri_recursion(6)"
   ]
  },
  {
   "cell_type": "code",
   "execution_count": null,
   "id": "34657e97",
   "metadata": {},
   "outputs": [],
   "source": []
  }
 ],
 "metadata": {
  "kernelspec": {
   "display_name": "Python 3 (ipykernel)",
   "language": "python",
   "name": "python3"
  },
  "language_info": {
   "codemirror_mode": {
    "name": "ipython",
    "version": 3
   },
   "file_extension": ".py",
   "mimetype": "text/x-python",
   "name": "python",
   "nbconvert_exporter": "python",
   "pygments_lexer": "ipython3",
   "version": "3.9.16"
  }
 },
 "nbformat": 4,
 "nbformat_minor": 5
}
